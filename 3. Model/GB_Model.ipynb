{
 "cells": [
  {
   "cell_type": "code",
   "execution_count": 1,
   "id": "f972c5af",
   "metadata": {
    "scrolled": true
   },
   "outputs": [],
   "source": [
    "import quandl\n",
    "import pandas as pd\n",
    "import re\n",
    "import numpy as np\n",
    "import tqdm\n",
    "import matplotlib.pyplot as plt\n",
    "import geopandas as gpd\n",
    "import seaborn as sns"
   ]
  },
  {
   "cell_type": "code",
   "execution_count": 41,
   "id": "9b52704d",
   "metadata": {},
   "outputs": [],
   "source": [
    "from sklearn.ensemble import RandomForestRegressor\n",
    "from sklearn.ensemble import GradientBoostingRegressor\n",
    "from sklearn.model_selection import GridSearchCV, train_test_split\n",
    "from tqdm import tqdm\n",
    "import math\n",
    "from sklearn.metrics import mean_squared_error, mean_absolute_error"
   ]
  },
  {
   "cell_type": "markdown",
   "id": "bf9a5c4f",
   "metadata": {},
   "source": [
    "### Importing Data"
   ]
  },
  {
   "cell_type": "code",
   "execution_count": null,
   "id": "d1793bef",
   "metadata": {},
   "outputs": [],
   "source": [
    "df=pd.read_csv('../1. Data Extraction & Cleaning/df.csv')\n",
    "df.date=pd.to_datetime(df.date)\n",
    "df.set_index('date')"
   ]
  },
  {
   "cell_type": "code",
   "execution_count": 48,
   "id": "715afddb",
   "metadata": {},
   "outputs": [],
   "source": [
    "predictors = df[['ZABT','ZSFH','NEWY636FIRE','CUURA101SAF11','CUURA101SS47016', 'MICH']]"
   ]
  },
  {
   "cell_type": "code",
   "execution_count": 49,
   "id": "77e86b0a",
   "metadata": {},
   "outputs": [],
   "source": [
    "# split the dataset into train and test sets\n",
    "X_train, X_test, y_train, y_test = train_test_split(predictors, target, test_size=0.2, random_state=42)"
   ]
  },
  {
   "cell_type": "markdown",
   "id": "89d917e8",
   "metadata": {},
   "source": [
    "### Creating Gradient Boosting Regressor"
   ]
  },
  {
   "cell_type": "code",
   "execution_count": 55,
   "id": "98974898",
   "metadata": {
    "scrolled": true
   },
   "outputs": [
    {
     "name": "stderr",
     "output_type": "stream",
     "text": [
      "100%|████████████████████████████████████████████████████████████████████████████████████| 5/5 [03:40<00:00, 44.14s/it]"
     ]
    },
    {
     "name": "stdout",
     "output_type": "stream",
     "text": [
      "Best hyperparameters: {'learning_rate': 0.15, 'max_depth': 3, 'min_samples_leaf': 1, 'min_samples_split': 4, 'n_estimators': 350}\n"
     ]
    },
    {
     "name": "stderr",
     "output_type": "stream",
     "text": [
      "\n"
     ]
    },
    {
     "data": {
      "text/plain": [
       "GradientBoostingRegressor(learning_rate=0.15, min_samples_split=4,\n",
       "                          n_estimators=350)"
      ]
     },
     "execution_count": 55,
     "metadata": {},
     "output_type": "execute_result"
    }
   ],
   "source": [
    "# Define the hyperparameter space to search over\n",
    "param_grid = {'learning_rate': [0.1, 0.15, 0.2],\n",
    "              'n_estimators': [300, 350, 400, 450],\n",
    "              'max_depth': [2, 3, 4],\n",
    "              'min_samples_split': [2, 3, 4],\n",
    "              'min_samples_leaf': [1, 2]}\n",
    "\n",
    "# Create a Gradient Boosting regressor\n",
    "reg = GradientBoostingRegressor()\n",
    "\n",
    "# Run grid search to find the best hyperparameters\n",
    "grid_search = GridSearchCV(reg, param_grid=param_grid, cv=5, n_jobs=-1)\n",
    "\n",
    "for params in tqdm(param_grid):\n",
    "    grid_search.fit(X_train, y_train)\n",
    "    \n",
    "# print the best hyperparameters\n",
    "print(\"Best hyperparameters:\", grid_search.best_params_)\n",
    "\n",
    "# use the best hyperparameters to create the final model\n",
    "final_model_gb = GradientBoostingRegressor(**grid_search.best_params_)\n",
    "final_model_gb.fit(X_train, y_train)"
   ]
  },
  {
   "cell_type": "code",
   "execution_count": 56,
   "id": "25031db8",
   "metadata": {},
   "outputs": [],
   "source": [
    "# Evaluate the final model on the testing set\n",
    "y_pred = final_model_gb.predict(X_test)\n",
    "mae = mean_absolute_error(y_test, y_pred)\n",
    "mse = mean_squared_error(y_test, y_pred)\n",
    "rmse=math.sqrt(mse)\n",
    "mape = np.mean(np.abs((y_test - y_pred) / y_test)) * 100\n",
    "r2 = final_model_gb.score(X_test, y_test)"
   ]
  },
  {
   "cell_type": "code",
   "execution_count": 57,
   "id": "7959e3b1",
   "metadata": {
    "scrolled": false
   },
   "outputs": [
    {
     "name": "stdout",
     "output_type": "stream",
     "text": [
      "Best hyperparameters: {'learning_rate': 0.15, 'max_depth': 3, 'min_samples_leaf': 1, 'min_samples_split': 4, 'n_estimators': 350}\n",
      "MAE: 24.911547024147268\n",
      "MSE on testing set: 920.7749796633082\n",
      "RMSE on testing set: 30.34427424841972\n",
      "MAPE: 0.9179753018653927\n",
      "R-squared on testing set: 0.9775211153876712\n"
     ]
    }
   ],
   "source": [
    "print(\"Best hyperparameters:\", grid_search.best_params_)\n",
    "print(\"MAE:\", mae)\n",
    "print(\"MSE on testing set:\", mse)\n",
    "print(\"RMSE on testing set:\" , rmse)\n",
    "print(\"MAPE:\", mape)\n",
    "print(\"R-squared on testing set:\", r2)"
   ]
  },
  {
   "cell_type": "markdown",
   "id": "383ebee9",
   "metadata": {},
   "source": [
    "### Using GBR Model"
   ]
  },
  {
   "cell_type": "code",
   "execution_count": 58,
   "id": "3c6c402e",
   "metadata": {},
   "outputs": [
    {
     "name": "stdout",
     "output_type": "stream",
     "text": [
      "Prediction: [2979.48562223]\n"
     ]
    },
    {
     "name": "stderr",
     "output_type": "stream",
     "text": [
      "c:\\users\\johnson\\appdata\\local\\programs\\python\\python37\\lib\\site-packages\\sklearn\\base.py:451: UserWarning: X does not have valid feature names, but GradientBoostingRegressor was fitted with feature names\n",
      "  \"X does not have valid feature names, but\"\n"
     ]
    }
   ],
   "source": [
    "### MARCH\n",
    "features = np.array([[367681.3436, 588200.022840, 810.39730, 315.610, 297.364, 3.9]])\n",
    "prediction = final_model_gb.predict(features)\n",
    "print(\"Prediction: {}\".format(prediction))"
   ]
  },
  {
   "cell_type": "code",
   "execution_count": 59,
   "id": "96927a96",
   "metadata": {},
   "outputs": [
    {
     "name": "stdout",
     "output_type": "stream",
     "text": [
      "Prediction: [2979.71812495]\n"
     ]
    },
    {
     "name": "stderr",
     "output_type": "stream",
     "text": [
      "c:\\users\\johnson\\appdata\\local\\programs\\python\\python37\\lib\\site-packages\\sklearn\\base.py:451: UserWarning: X does not have valid feature names, but GradientBoostingRegressor was fitted with feature names\n",
      "  \"X does not have valid feature names, but\"\n"
     ]
    }
   ],
   "source": [
    "### APRIL\n",
    "features = np.array([[370384.9491, 588633.772961, 811.15608, 316.115, 296.949,4.1]])\n",
    "prediction = final_model_gb.predict(features)\n",
    "print(\"Prediction: {}\".format(prediction))"
   ]
  }
 ],
 "metadata": {
  "kernelspec": {
   "display_name": "Python 3",
   "language": "python",
   "name": "python3"
  },
  "language_info": {
   "codemirror_mode": {
    "name": "ipython",
    "version": 3
   },
   "file_extension": ".py",
   "mimetype": "text/x-python",
   "name": "python",
   "nbconvert_exporter": "python",
   "pygments_lexer": "ipython3",
   "version": "3.7.4"
  }
 },
 "nbformat": 4,
 "nbformat_minor": 5
}
